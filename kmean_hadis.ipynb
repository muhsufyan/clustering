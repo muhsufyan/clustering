{
  "nbformat": 4,
  "nbformat_minor": 0,
  "metadata": {
    "colab": {
      "name": "kmean_hadis.ipynb",
      "provenance": [],
      "collapsed_sections": [],
      "mount_file_id": "1tVKfoe3gzw2daLaxovkr-38GrdtmcT7K",
      "authorship_tag": "ABX9TyONQyHdII9cLa2IVZ9FPCsD"
    },
    "kernelspec": {
      "name": "python3",
      "display_name": "Python 3"
    },
    "language_info": {
      "name": "python"
    }
  },
  "cells": [
    {
      "cell_type": "markdown",
      "metadata": {
        "id": "rT2OZKCA6W39"
      },
      "source": [
        "# download sastrawi library"
      ]
    },
    {
      "cell_type": "code",
      "metadata": {
        "colab": {
          "base_uri": "https://localhost:8080/"
        },
        "id": "Bgq-Kv2Ux1F-",
        "outputId": "1a873895-0432-499a-a787-b75d086b0cb7"
      },
      "source": [
        "!pip install PySastrawi"
      ],
      "execution_count": 24,
      "outputs": [
        {
          "output_type": "stream",
          "name": "stdout",
          "text": [
            "Collecting PySastrawi\n",
            "  Downloading PySastrawi-1.2.0-py2.py3-none-any.whl (210 kB)\n",
            "\u001b[?25l\r\u001b[K     |█▋                              | 10 kB 29.0 MB/s eta 0:00:01\r\u001b[K     |███▏                            | 20 kB 33.6 MB/s eta 0:00:01\r\u001b[K     |████▊                           | 30 kB 22.0 MB/s eta 0:00:01\r\u001b[K     |██████▎                         | 40 kB 18.8 MB/s eta 0:00:01\r\u001b[K     |███████▉                        | 51 kB 16.6 MB/s eta 0:00:01\r\u001b[K     |█████████▍                      | 61 kB 12.8 MB/s eta 0:00:01\r\u001b[K     |███████████                     | 71 kB 13.2 MB/s eta 0:00:01\r\u001b[K     |████████████▌                   | 81 kB 14.6 MB/s eta 0:00:01\r\u001b[K     |██████████████                  | 92 kB 14.2 MB/s eta 0:00:01\r\u001b[K     |███████████████▋                | 102 kB 11.1 MB/s eta 0:00:01\r\u001b[K     |█████████████████▏              | 112 kB 11.1 MB/s eta 0:00:01\r\u001b[K     |██████████████████▊             | 122 kB 11.1 MB/s eta 0:00:01\r\u001b[K     |████████████████████▎           | 133 kB 11.1 MB/s eta 0:00:01\r\u001b[K     |█████████████████████▉          | 143 kB 11.1 MB/s eta 0:00:01\r\u001b[K     |███████████████████████▍        | 153 kB 11.1 MB/s eta 0:00:01\r\u001b[K     |█████████████████████████       | 163 kB 11.1 MB/s eta 0:00:01\r\u001b[K     |██████████████████████████▌     | 174 kB 11.1 MB/s eta 0:00:01\r\u001b[K     |████████████████████████████    | 184 kB 11.1 MB/s eta 0:00:01\r\u001b[K     |█████████████████████████████▋  | 194 kB 11.1 MB/s eta 0:00:01\r\u001b[K     |███████████████████████████████▏| 204 kB 11.1 MB/s eta 0:00:01\r\u001b[K     |████████████████████████████████| 210 kB 11.1 MB/s \n",
            "\u001b[?25hInstalling collected packages: PySastrawi\n",
            "Successfully installed PySastrawi-1.2.0\n"
          ]
        }
      ]
    },
    {
      "cell_type": "markdown",
      "metadata": {
        "id": "hFjmCraP6a6I"
      },
      "source": [
        "# baca dataset"
      ]
    },
    {
      "cell_type": "code",
      "metadata": {
        "colab": {
          "base_uri": "https://localhost:8080/",
          "height": 206
        },
        "id": "t7JLTicop9a0",
        "outputId": "0fb84343-051a-440a-b97a-ef5fcedfd73e"
      },
      "source": [
        "# Step 1: Load the data\n",
        "import pandas as pd\n",
        "df = pd.read_excel(\"/content/drive/MyDrive/rizki bantu disertasi/Book1.xlsx\")\n",
        "df.head()"
      ],
      "execution_count": 13,
      "outputs": [
        {
          "output_type": "execute_result",
          "data": {
            "text/html": [
              "<div>\n",
              "<style scoped>\n",
              "    .dataframe tbody tr th:only-of-type {\n",
              "        vertical-align: middle;\n",
              "    }\n",
              "\n",
              "    .dataframe tbody tr th {\n",
              "        vertical-align: top;\n",
              "    }\n",
              "\n",
              "    .dataframe thead th {\n",
              "        text-align: right;\n",
              "    }\n",
              "</style>\n",
              "<table border=\"1\" class=\"dataframe\">\n",
              "  <thead>\n",
              "    <tr style=\"text-align: right;\">\n",
              "      <th></th>\n",
              "      <th>id</th>\n",
              "      <th>title</th>\n",
              "      <th>overview</th>\n",
              "    </tr>\n",
              "  </thead>\n",
              "  <tbody>\n",
              "    <tr>\n",
              "      <th>0</th>\n",
              "      <td>0</td>\n",
              "      <td>Islam Dibangun atas Lima Perkara</td>\n",
              "      <td>Islam dibangun di atas lima (landasan); persak...</td>\n",
              "    </tr>\n",
              "    <tr>\n",
              "      <th>1</th>\n",
              "      <td>1</td>\n",
              "      <td>Tentang Perkara-perkara Iman</td>\n",
              "      <td>Iman memiliki lebih dari enam puluh cabang, da...</td>\n",
              "    </tr>\n",
              "    <tr>\n",
              "      <th>2</th>\n",
              "      <td>2</td>\n",
              "      <td>Seorang Muslim adalah Orang yang kaum Muslimin...</td>\n",
              "      <td>Seorang muslim adalah orang yang kaum muslimin...</td>\n",
              "    </tr>\n",
              "    <tr>\n",
              "      <th>3</th>\n",
              "      <td>3</td>\n",
              "      <td>Amalan Islam apakah yang Paling Utama?</td>\n",
              "      <td>Telah menceritakan kepada kami bapakku berkata...</td>\n",
              "    </tr>\n",
              "    <tr>\n",
              "      <th>4</th>\n",
              "      <td>4</td>\n",
              "      <td>Memberi Makan Bagian dari Islam</td>\n",
              "      <td>Memberi Makan Bagian dari Islam,\"Ada seseorang...</td>\n",
              "    </tr>\n",
              "  </tbody>\n",
              "</table>\n",
              "</div>"
            ],
            "text/plain": [
              "   id  ...                                           overview\n",
              "0   0  ...  Islam dibangun di atas lima (landasan); persak...\n",
              "1   1  ...  Iman memiliki lebih dari enam puluh cabang, da...\n",
              "2   2  ...  Seorang muslim adalah orang yang kaum muslimin...\n",
              "3   3  ...  Telah menceritakan kepada kami bapakku berkata...\n",
              "4   4  ...  Memberi Makan Bagian dari Islam,\"Ada seseorang...\n",
              "\n",
              "[5 rows x 3 columns]"
            ]
          },
          "metadata": {},
          "execution_count": 13
        }
      ]
    },
    {
      "cell_type": "code",
      "metadata": {
        "colab": {
          "base_uri": "https://localhost:8080/"
        },
        "id": "P0NYjgfTqTeE",
        "outputId": "84fc2bc1-cb7e-4875-fca2-fff64c667b42"
      },
      "source": [
        "# Step 2: Explore the data\n",
        "df.info()"
      ],
      "execution_count": 14,
      "outputs": [
        {
          "output_type": "stream",
          "name": "stdout",
          "text": [
            "<class 'pandas.core.frame.DataFrame'>\n",
            "RangeIndex: 10 entries, 0 to 9\n",
            "Data columns (total 3 columns):\n",
            " #   Column    Non-Null Count  Dtype \n",
            "---  ------    --------------  ----- \n",
            " 0   id        10 non-null     int64 \n",
            " 1   title     10 non-null     object\n",
            " 2   overview  10 non-null     object\n",
            "dtypes: int64(1), object(2)\n",
            "memory usage: 368.0+ bytes\n"
          ]
        }
      ]
    },
    {
      "cell_type": "code",
      "metadata": {
        "colab": {
          "base_uri": "https://localhost:8080/"
        },
        "id": "YgWKQE8syCHm",
        "outputId": "b082ab1c-6c41-49b2-e997-c5d18be2f9c0"
      },
      "source": [
        "df['overview'].values.astype(\"U\")"
      ],
      "execution_count": 26,
      "outputs": [
        {
          "output_type": "execute_result",
          "data": {
            "text/plain": [
              "array(['Islam dibangun di atas lima (landasan); persaksian tidak ada ilah selain Allah dan sesungguhnya Muhammad utusan Allah, mendirikan shalat, menunaikan zakat, haji dan puasa Ramadan',\n",
              "       'Iman memiliki lebih dari enam puluh cabang, dan malu adalah bagian dari iman.',\n",
              "       'Seorang muslim adalah orang yang kaum muslimin selamat dari lisan dan tangannya, dan seorang Muhajir adalah orang yang meninggalkan apa yang dilarang oleh Allah.',\n",
              "       'Telah menceritakan kepada kami bapakku berkata, bahwa Telah menceritakan kepada kami Abu Burdah bin Abdullah bin Abu Burdah dari Abu Burdah dari Abu Musa berkata, \\'Wahai Rasulullah, Islam manakah yang paling utama?\" Rasulullah ? menjawab, \"Siapa yang kaum muslimin selamat dari lisan dan tangannya.',\n",
              "       'Memberi Makan Bagian dari Islam,\"Ada seseorang yang bertanya kepada Nabi ?, \"Islam manakah yang paling baik?\" Nabi ? menjawab, \"Kamu memberi makan, mengucapkan salam kepada orang yang kamu kenal dan yang tidak kamu kenal.',\n",
              "       'Termasuk keimanan adalah menyukai untuk saudaranya seperti ia menyukai untuk dirinya sendiri,\"Telah menceritakan kepada kami Musaddad berkata, telah menceritakan kepada kami Yahya dari Syu\\'bah dari Qotadah dari Anas dari Nabi ? Dan dari Husain Al Mu\\'alim berkata, telah menceritakan kepada kami Qotadah dari Anas dari Nabi ?, beliau bersabda, \"Tidaklah beriman seseorang dari kalian sehingga dia mencintai untuk saudaranya sebagaimana dia mencintai untuk dirinya sendiri.',\n",
              "       'Telah menceritakan kepada kami Abu Al Yaman berkata, telah mengabarkan kepada kami Syu\\'aib berkata, telah menceritakan kepada kami Abu Az Zanad dari Al A\\'raj dari Abu Hurairah, bahwa Rasulullah ? bersabda, \"Maka demi Dzat yang jiwaku di tangan-Nya, tidaklah beriman seorang dari kalian hingga aku lebih dicintainya daripada orang tuanya dan anaknya.',\n",
              "       'Tiga perkara yang apabila ada pada diri seseorang, ia akan mendapatkan manisnya iman: Dijadikannya Allah dan rasul-Nya lebih dicintainya dari selain keduanya. Jika ia mencintai seseorang, dia tidak mencintainya kecuali karena Allah. Dan dia benci kembali kepada kekufuran seperti dia benci bila dilempar ke neraka.',\n",
              "       'Telah menceritakan kepada kami Abu Al Walid berkata, telah menceritakan kepada kami Syu\\'bah telah mengabarkan kepadaku Abdullah bin Abdullah bin Jabar, berkata; aku mendengar Anas dari Nabi ?, beliau bersabda, \"Tanda iman adalah mencintai (kaum) Anshar dan tanda nifaq adalah membenci (kaum) Anshar',\n",
              "       'Telah menceritakan kepada kami Abu An Nu\\'man \\'Arim bin Al Fadlal berkata, telah menceritakan kepada kami Abu \\'Awanah dari Abu Bisyir dari Yusuf bin Mahak dari Abdullah bin \\'Amru berkata, Nabi ? pernah tertinggal dari kami dalam suatu perjalanan yang kami lakukan hingga beliau mendapatkan kami sementara waktu shalat sudah hampir habis, kami berwudhu dengan hanya mengusap kaki kami. Maka Nabi ? berseru dengan suara yang keras, \"Celakalah bagi tumit-tumit yang tidak basah akan masuk neraka. Beliau serukan hingga dua atau tiga kali.'],\n",
              "      dtype='<U534')"
            ]
          },
          "metadata": {},
          "execution_count": 26
        }
      ]
    },
    {
      "cell_type": "markdown",
      "metadata": {
        "id": "vChb3dx06gdw"
      },
      "source": [
        "# hapus tanda baca"
      ]
    },
    {
      "cell_type": "code",
      "metadata": {
        "id": "qumQ0IrSzo80"
      },
      "source": [
        "df[\"tanda_baca\"] = df[\"overview\"].str.replace('[^\\w\\s]','')"
      ],
      "execution_count": 36,
      "outputs": []
    },
    {
      "cell_type": "code",
      "metadata": {
        "colab": {
          "base_uri": "https://localhost:8080/",
          "height": 293
        },
        "id": "rGMcdivnz_6a",
        "outputId": "a4907217-fd17-424d-9f7d-4afa8eeba442"
      },
      "source": [
        "df.head()"
      ],
      "execution_count": 37,
      "outputs": [
        {
          "output_type": "execute_result",
          "data": {
            "text/html": [
              "<div>\n",
              "<style scoped>\n",
              "    .dataframe tbody tr th:only-of-type {\n",
              "        vertical-align: middle;\n",
              "    }\n",
              "\n",
              "    .dataframe tbody tr th {\n",
              "        vertical-align: top;\n",
              "    }\n",
              "\n",
              "    .dataframe thead th {\n",
              "        text-align: right;\n",
              "    }\n",
              "</style>\n",
              "<table border=\"1\" class=\"dataframe\">\n",
              "  <thead>\n",
              "    <tr style=\"text-align: right;\">\n",
              "      <th></th>\n",
              "      <th>id</th>\n",
              "      <th>title</th>\n",
              "      <th>overview</th>\n",
              "      <th>cluster</th>\n",
              "      <th>tanda_baca</th>\n",
              "    </tr>\n",
              "  </thead>\n",
              "  <tbody>\n",
              "    <tr>\n",
              "      <th>0</th>\n",
              "      <td>0</td>\n",
              "      <td>Islam Dibangun atas Lima Perkara</td>\n",
              "      <td>Islam dibangun di atas lima (landasan); persak...</td>\n",
              "      <td>4</td>\n",
              "      <td>Islam dibangun di atas lima landasan persaksia...</td>\n",
              "    </tr>\n",
              "    <tr>\n",
              "      <th>1</th>\n",
              "      <td>1</td>\n",
              "      <td>Tentang Perkara-perkara Iman</td>\n",
              "      <td>Iman memiliki lebih dari enam puluh cabang, da...</td>\n",
              "      <td>2</td>\n",
              "      <td>Iman memiliki lebih dari enam puluh cabang dan...</td>\n",
              "    </tr>\n",
              "    <tr>\n",
              "      <th>2</th>\n",
              "      <td>2</td>\n",
              "      <td>Seorang Muslim adalah Orang yang kaum Muslimin...</td>\n",
              "      <td>Seorang muslim adalah orang yang kaum muslimin...</td>\n",
              "      <td>0</td>\n",
              "      <td>Seorang muslim adalah orang yang kaum muslimin...</td>\n",
              "    </tr>\n",
              "    <tr>\n",
              "      <th>3</th>\n",
              "      <td>3</td>\n",
              "      <td>Amalan Islam apakah yang Paling Utama?</td>\n",
              "      <td>Telah menceritakan kepada kami bapakku berkata...</td>\n",
              "      <td>1</td>\n",
              "      <td>Telah menceritakan kepada kami bapakku berkata...</td>\n",
              "    </tr>\n",
              "    <tr>\n",
              "      <th>4</th>\n",
              "      <td>4</td>\n",
              "      <td>Memberi Makan Bagian dari Islam</td>\n",
              "      <td>Memberi Makan Bagian dari Islam,\"Ada seseorang...</td>\n",
              "      <td>0</td>\n",
              "      <td>Memberi Makan Bagian dari IslamAda seseorang y...</td>\n",
              "    </tr>\n",
              "  </tbody>\n",
              "</table>\n",
              "</div>"
            ],
            "text/plain": [
              "   id  ...                                         tanda_baca\n",
              "0   0  ...  Islam dibangun di atas lima landasan persaksia...\n",
              "1   1  ...  Iman memiliki lebih dari enam puluh cabang dan...\n",
              "2   2  ...  Seorang muslim adalah orang yang kaum muslimin...\n",
              "3   3  ...  Telah menceritakan kepada kami bapakku berkata...\n",
              "4   4  ...  Memberi Makan Bagian dari IslamAda seseorang y...\n",
              "\n",
              "[5 rows x 5 columns]"
            ]
          },
          "metadata": {},
          "execution_count": 37
        }
      ]
    },
    {
      "cell_type": "code",
      "metadata": {
        "colab": {
          "base_uri": "https://localhost:8080/"
        },
        "id": "mcmFKTGe0DU6",
        "outputId": "9603f01b-e1c2-4f50-cc66-03efc1245fc3"
      },
      "source": [
        "df['tanda_baca']"
      ],
      "execution_count": 38,
      "outputs": [
        {
          "output_type": "execute_result",
          "data": {
            "text/plain": [
              "0    Islam dibangun di atas lima landasan persaksia...\n",
              "1    Iman memiliki lebih dari enam puluh cabang dan...\n",
              "2    Seorang muslim adalah orang yang kaum muslimin...\n",
              "3    Telah menceritakan kepada kami bapakku berkata...\n",
              "4    Memberi Makan Bagian dari IslamAda seseorang y...\n",
              "5    Termasuk keimanan adalah menyukai untuk saudar...\n",
              "6    Telah menceritakan kepada kami Abu Al Yaman be...\n",
              "7    Tiga perkara yang apabila ada pada diri seseor...\n",
              "8    Telah menceritakan kepada kami Abu Al Walid be...\n",
              "9    Telah menceritakan kepada kami Abu An Numan Ar...\n",
              "Name: tanda_baca, dtype: object"
            ]
          },
          "metadata": {},
          "execution_count": 38
        }
      ]
    },
    {
      "cell_type": "markdown",
      "metadata": {
        "id": "YrtIo5xh6jQB"
      },
      "source": [
        "# ubah jd lower case"
      ]
    },
    {
      "cell_type": "code",
      "metadata": {
        "id": "Pvi8O2ri0Z6S"
      },
      "source": [
        "df['lower_case'] = df['tanda_baca'].str.lower()"
      ],
      "execution_count": 44,
      "outputs": []
    },
    {
      "cell_type": "code",
      "metadata": {
        "colab": {
          "base_uri": "https://localhost:8080/"
        },
        "id": "e4lyV_IW06uk",
        "outputId": "5d8bba6a-78a7-4108-9204-c5690ce9bc0e"
      },
      "source": [
        "df['lower_case']"
      ],
      "execution_count": 45,
      "outputs": [
        {
          "output_type": "execute_result",
          "data": {
            "text/plain": [
              "0    islam dibangun di atas lima landasan persaksia...\n",
              "1    iman memiliki lebih dari enam puluh cabang dan...\n",
              "2    seorang muslim adalah orang yang kaum muslimin...\n",
              "3    telah menceritakan kepada kami bapakku berkata...\n",
              "4    memberi makan bagian dari islamada seseorang y...\n",
              "5    termasuk keimanan adalah menyukai untuk saudar...\n",
              "6    telah menceritakan kepada kami abu al yaman be...\n",
              "7    tiga perkara yang apabila ada pada diri seseor...\n",
              "8    telah menceritakan kepada kami abu al walid be...\n",
              "9    telah menceritakan kepada kami abu an numan ar...\n",
              "Name: lower_case, dtype: object"
            ]
          },
          "metadata": {},
          "execution_count": 45
        }
      ]
    },
    {
      "cell_type": "code",
      "metadata": {
        "colab": {
          "base_uri": "https://localhost:8080/"
        },
        "id": "8-SPdVn736EC",
        "outputId": "cf4b9f7b-ed1d-47da-e0bc-857ba95a1e2c"
      },
      "source": [
        "for i in range(df['lower_case'].shape[0]):\n",
        "  print(df['lower_case'][i])\n",
        "  print(\"=====\"*5)"
      ],
      "execution_count": 59,
      "outputs": [
        {
          "output_type": "stream",
          "name": "stdout",
          "text": [
            "islam dibangun di atas lima landasan persaksian tidak ada ilah selain allah dan sesungguhnya muhammad utusan allah mendirikan shalat menunaikan zakat haji dan puasa ramadan\n",
            "=========================\n",
            "iman memiliki lebih dari enam puluh cabang dan malu adalah bagian dari iman\n",
            "=========================\n",
            "seorang muslim adalah orang yang kaum muslimin selamat dari lisan dan tangannya dan seorang muhajir adalah orang yang meninggalkan apa yang dilarang oleh allah\n",
            "=========================\n",
            "telah menceritakan kepada kami bapakku berkata bahwa telah menceritakan kepada kami abu burdah bin abdullah bin abu burdah dari abu burdah dari abu musa berkata wahai rasulullah islam manakah yang paling utama rasulullah  menjawab siapa yang kaum muslimin selamat dari lisan dan tangannya\n",
            "=========================\n",
            "memberi makan bagian dari islamada seseorang yang bertanya kepada nabi  islam manakah yang paling baik nabi  menjawab kamu memberi makan mengucapkan salam kepada orang yang kamu kenal dan yang tidak kamu kenal\n",
            "=========================\n",
            "termasuk keimanan adalah menyukai untuk saudaranya seperti ia menyukai untuk dirinya sendiritelah menceritakan kepada kami musaddad berkata telah menceritakan kepada kami yahya dari syubah dari qotadah dari anas dari nabi  dan dari husain al mualim berkata telah menceritakan kepada kami qotadah dari anas dari nabi  beliau bersabda tidaklah beriman seseorang dari kalian sehingga dia mencintai untuk saudaranya sebagaimana dia mencintai untuk dirinya sendiri\n",
            "=========================\n",
            "telah menceritakan kepada kami abu al yaman berkata telah mengabarkan kepada kami syuaib berkata telah menceritakan kepada kami abu az zanad dari al araj dari abu hurairah bahwa rasulullah  bersabda maka demi dzat yang jiwaku di tangannya tidaklah beriman seorang dari kalian hingga aku lebih dicintainya daripada orang tuanya dan anaknya\n",
            "=========================\n",
            "tiga perkara yang apabila ada pada diri seseorang ia akan mendapatkan manisnya iman dijadikannya allah dan rasulnya lebih dicintainya dari selain keduanya jika ia mencintai seseorang dia tidak mencintainya kecuali karena allah dan dia benci kembali kepada kekufuran seperti dia benci bila dilempar ke neraka\n",
            "=========================\n",
            "telah menceritakan kepada kami abu al walid berkata telah menceritakan kepada kami syubah telah mengabarkan kepadaku abdullah bin abdullah bin jabar berkata aku mendengar anas dari nabi  beliau bersabda tanda iman adalah mencintai kaum anshar dan tanda nifaq adalah membenci kaum anshar\n",
            "=========================\n",
            "telah menceritakan kepada kami abu an numan arim bin al fadlal berkata telah menceritakan kepada kami abu awanah dari abu bisyir dari yusuf bin mahak dari abdullah bin amru berkata nabi  pernah tertinggal dari kami dalam suatu perjalanan yang kami lakukan hingga beliau mendapatkan kami sementara waktu shalat sudah hampir habis kami berwudhu dengan hanya mengusap kaki kami maka nabi  berseru dengan suara yang keras celakalah bagi tumittumit yang tidak basah akan masuk neraka beliau serukan hingga dua atau tiga kali\n",
            "=========================\n"
          ]
        }
      ]
    },
    {
      "cell_type": "code",
      "metadata": {
        "colab": {
          "base_uri": "https://localhost:8080/"
        },
        "id": "xNJQoOcb3fDS",
        "outputId": "76700123-401d-422c-c980-b9af0b2b67dc"
      },
      "source": [
        "df['lower_case'].shape[0]"
      ],
      "execution_count": 58,
      "outputs": [
        {
          "output_type": "execute_result",
          "data": {
            "text/plain": [
              "10"
            ]
          },
          "metadata": {},
          "execution_count": 58
        }
      ]
    },
    {
      "cell_type": "markdown",
      "metadata": {
        "id": "e4MeKtBD6n6Y"
      },
      "source": [
        "# stop word"
      ]
    },
    {
      "cell_type": "code",
      "metadata": {
        "id": "nSGpKarR3M5y"
      },
      "source": [
        "# import StopWordRemoverFactory class\n",
        "from Sastrawi.StopWordRemover.StopWordRemoverFactory import StopWordRemoverFactory\n",
        "stop_word=[]\n",
        "factory = StopWordRemoverFactory()\n",
        "stopword = factory.create_stop_word_remover()\n",
        "for i in range(df['lower_case'].shape[0]):\n",
        "  stop = stopword.remove(df['lower_case'][i])\n",
        "  stop_word.append(stop)\n",
        "# stop = stopword.remove(df['lower_case'][0])"
      ],
      "execution_count": 62,
      "outputs": []
    },
    {
      "cell_type": "code",
      "metadata": {
        "colab": {
          "base_uri": "https://localhost:8080/"
        },
        "id": "ZWjCRghZ4tAD",
        "outputId": "e4288711-4199-4300-a0bf-01a590b4f980"
      },
      "source": [
        "stop_word"
      ],
      "execution_count": 63,
      "outputs": [
        {
          "output_type": "execute_result",
          "data": {
            "text/plain": [
              "['islam dibangun landasan persaksian ilah allah sesungguhnya muhammad utusan allah mendirikan shalat menunaikan zakat haji puasa ramadan',\n",
              " 'iman memiliki enam puluh cabang malu iman',\n",
              " 'muslim kaum muslimin selamat lisan tangannya muhajir meninggalkan dilarang allah',\n",
              " 'menceritakan bapakku menceritakan abu burdah bin abdullah bin abu burdah abu burdah abu musa rasulullah islam manakah utama rasulullah  kaum muslimin selamat lisan tangannya',\n",
              " 'makan islamada nabi  islam manakah nabi  makan kenal kenal',\n",
              " 'keimanan menyukai saudaranya menyukai sendiritelah menceritakan musaddad menceritakan yahya syubah qotadah anas nabi  husain al mualim menceritakan qotadah anas nabi  beliau bersabda beriman mencintai saudaranya mencintai',\n",
              " 'menceritakan abu al yaman mengabarkan syuaib menceritakan abu az zanad al araj abu hurairah rasulullah  bersabda dzat jiwaku tangannya beriman dicintainya tuanya anaknya',\n",
              " 'perkara manisnya iman dijadikannya allah rasulnya dicintainya mencintai mencintainya kecuali allah benci kekufuran benci dilempar neraka',\n",
              " 'menceritakan abu al walid menceritakan syubah mengabarkan kepadaku abdullah bin abdullah bin jabar mendengar anas nabi  beliau bersabda tanda iman mencintai kaum anshar tanda nifaq membenci kaum anshar',\n",
              " 'menceritakan abu an numan arim bin al fadlal menceritakan abu awanah abu bisyir yusuf bin mahak abdullah bin amru nabi  tertinggal perjalanan lakukan beliau waktu shalat habis berwudhu mengusap kaki nabi  berseru suara keras celakalah tumittumit basah neraka beliau serukan']"
            ]
          },
          "metadata": {},
          "execution_count": 63
        }
      ]
    },
    {
      "cell_type": "code",
      "metadata": {
        "id": "WKcFU01e4wgd"
      },
      "source": [
        "df['stop_word'] = stop_word"
      ],
      "execution_count": 64,
      "outputs": []
    },
    {
      "cell_type": "code",
      "metadata": {
        "colab": {
          "base_uri": "https://localhost:8080/"
        },
        "id": "qfRDHCRE401K",
        "outputId": "e47d128c-caee-48c8-f501-4e02967a230f"
      },
      "source": [
        "df['stop_word'].head()"
      ],
      "execution_count": 66,
      "outputs": [
        {
          "output_type": "execute_result",
          "data": {
            "text/plain": [
              "0    islam dibangun landasan persaksian ilah allah ...\n",
              "1            iman memiliki enam puluh cabang malu iman\n",
              "2    muslim kaum muslimin selamat lisan tangannya m...\n",
              "3    menceritakan bapakku menceritakan abu burdah b...\n",
              "4    makan islamada nabi  islam manakah nabi  makan...\n",
              "Name: stop_word, dtype: object"
            ]
          },
          "metadata": {},
          "execution_count": 66
        }
      ]
    },
    {
      "cell_type": "code",
      "metadata": {
        "colab": {
          "base_uri": "https://localhost:8080/",
          "height": 73
        },
        "id": "rtkrarss4_CU",
        "outputId": "55c2fac1-f73e-4645-80e2-0ecf123efcc0"
      },
      "source": [
        "df['stop_word'][8]"
      ],
      "execution_count": 67,
      "outputs": [
        {
          "output_type": "execute_result",
          "data": {
            "application/vnd.google.colaboratory.intrinsic+json": {
              "type": "string"
            },
            "text/plain": [
              "'menceritakan abu al walid menceritakan syubah mengabarkan kepadaku abdullah bin abdullah bin jabar mendengar anas nabi  beliau bersabda tanda iman mencintai kaum anshar tanda nifaq membenci kaum anshar'"
            ]
          },
          "metadata": {},
          "execution_count": 67
        }
      ]
    },
    {
      "cell_type": "code",
      "metadata": {
        "colab": {
          "base_uri": "https://localhost:8080/",
          "height": 36
        },
        "id": "d8sMpR6e5EQ7",
        "outputId": "962f728e-fb47-40fc-f7e7-3669896d3541"
      },
      "source": [
        "df['stop_word'][1]"
      ],
      "execution_count": 69,
      "outputs": [
        {
          "output_type": "execute_result",
          "data": {
            "application/vnd.google.colaboratory.intrinsic+json": {
              "type": "string"
            },
            "text/plain": [
              "'iman memiliki enam puluh cabang malu iman'"
            ]
          },
          "metadata": {},
          "execution_count": 69
        }
      ]
    },
    {
      "cell_type": "code",
      "metadata": {
        "id": "yPkeV7D9yV6O"
      },
      "source": [
        "documents = df['stop_word'].values.astype(\"U\")"
      ],
      "execution_count": 71,
      "outputs": []
    },
    {
      "cell_type": "code",
      "metadata": {
        "colab": {
          "base_uri": "https://localhost:8080/"
        },
        "id": "xja5XsMGzR-u",
        "outputId": "f1079a7b-d0f6-4daf-d09f-f499b2557972"
      },
      "source": [
        "documents"
      ],
      "execution_count": 72,
      "outputs": [
        {
          "output_type": "execute_result",
          "data": {
            "text/plain": [
              "array(['islam dibangun landasan persaksian ilah allah sesungguhnya muhammad utusan allah mendirikan shalat menunaikan zakat haji puasa ramadan',\n",
              "       'iman memiliki enam puluh cabang malu iman',\n",
              "       'muslim kaum muslimin selamat lisan tangannya muhajir meninggalkan dilarang allah',\n",
              "       'menceritakan bapakku menceritakan abu burdah bin abdullah bin abu burdah abu burdah abu musa rasulullah islam manakah utama rasulullah  kaum muslimin selamat lisan tangannya',\n",
              "       'makan islamada nabi  islam manakah nabi  makan kenal kenal',\n",
              "       'keimanan menyukai saudaranya menyukai sendiritelah menceritakan musaddad menceritakan yahya syubah qotadah anas nabi  husain al mualim menceritakan qotadah anas nabi  beliau bersabda beriman mencintai saudaranya mencintai',\n",
              "       'menceritakan abu al yaman mengabarkan syuaib menceritakan abu az zanad al araj abu hurairah rasulullah  bersabda dzat jiwaku tangannya beriman dicintainya tuanya anaknya',\n",
              "       'perkara manisnya iman dijadikannya allah rasulnya dicintainya mencintai mencintainya kecuali allah benci kekufuran benci dilempar neraka',\n",
              "       'menceritakan abu al walid menceritakan syubah mengabarkan kepadaku abdullah bin abdullah bin jabar mendengar anas nabi  beliau bersabda tanda iman mencintai kaum anshar tanda nifaq membenci kaum anshar',\n",
              "       'menceritakan abu an numan arim bin al fadlal menceritakan abu awanah abu bisyir yusuf bin mahak abdullah bin amru nabi  tertinggal perjalanan lakukan beliau waktu shalat habis berwudhu mengusap kaki nabi  berseru suara keras celakalah tumittumit basah neraka beliau serukan'],\n",
              "      dtype='<U273')"
            ]
          },
          "metadata": {},
          "execution_count": 72
        }
      ]
    },
    {
      "cell_type": "markdown",
      "metadata": {
        "id": "DaMmEzwU6sME"
      },
      "source": [
        "# tfidf dan kmean++"
      ]
    },
    {
      "cell_type": "code",
      "metadata": {
        "colab": {
          "base_uri": "https://localhost:8080/"
        },
        "id": "FXRpPw7TuNQd",
        "outputId": "63fbc497-1364-425e-ecc2-1add254428f3"
      },
      "source": [
        "# Step 3: Data preprocessing\n",
        "from sklearn.feature_extraction.text import TfidfVectorizer\n",
        "from sklearn.cluster import KMeans\n",
        "\n",
        "vectorizer = TfidfVectorizer()\n",
        "features = vectorizer.fit_transform(documents)\n",
        "\n",
        "k = 5\n",
        "model = KMeans(n_clusters=k, init='k-means++', max_iter=100, n_init=1)\n",
        "model.fit(features)\n",
        "\n"
      ],
      "execution_count": 73,
      "outputs": [
        {
          "output_type": "execute_result",
          "data": {
            "text/plain": [
              "KMeans(algorithm='auto', copy_x=True, init='k-means++', max_iter=100,\n",
              "       n_clusters=5, n_init=1, n_jobs=None, precompute_distances='auto',\n",
              "       random_state=None, tol=0.0001, verbose=0)"
            ]
          },
          "metadata": {},
          "execution_count": 73
        }
      ]
    },
    {
      "cell_type": "markdown",
      "metadata": {
        "id": "sTOgM8Fo6wA4"
      },
      "source": [
        "# cetak label"
      ]
    },
    {
      "cell_type": "code",
      "metadata": {
        "id": "zu_eafI_xCf5"
      },
      "source": [
        "df['cluster'] = model.labels_"
      ],
      "execution_count": 74,
      "outputs": []
    },
    {
      "cell_type": "code",
      "metadata": {
        "colab": {
          "base_uri": "https://localhost:8080/",
          "height": 449
        },
        "id": "d-QiEk9FuRZP",
        "outputId": "1b78195b-d0cc-4448-c03c-248079a2bae6"
      },
      "source": [
        "df.head()"
      ],
      "execution_count": 75,
      "outputs": [
        {
          "output_type": "execute_result",
          "data": {
            "text/html": [
              "<div>\n",
              "<style scoped>\n",
              "    .dataframe tbody tr th:only-of-type {\n",
              "        vertical-align: middle;\n",
              "    }\n",
              "\n",
              "    .dataframe tbody tr th {\n",
              "        vertical-align: top;\n",
              "    }\n",
              "\n",
              "    .dataframe thead th {\n",
              "        text-align: right;\n",
              "    }\n",
              "</style>\n",
              "<table border=\"1\" class=\"dataframe\">\n",
              "  <thead>\n",
              "    <tr style=\"text-align: right;\">\n",
              "      <th></th>\n",
              "      <th>id</th>\n",
              "      <th>title</th>\n",
              "      <th>overview</th>\n",
              "      <th>cluster</th>\n",
              "      <th>tanda_baca</th>\n",
              "      <th>lower_case</th>\n",
              "      <th>stop_word</th>\n",
              "    </tr>\n",
              "  </thead>\n",
              "  <tbody>\n",
              "    <tr>\n",
              "      <th>0</th>\n",
              "      <td>0</td>\n",
              "      <td>Islam Dibangun atas Lima Perkara</td>\n",
              "      <td>Islam dibangun di atas lima (landasan); persak...</td>\n",
              "      <td>0</td>\n",
              "      <td>Islam dibangun di atas lima landasan persaksia...</td>\n",
              "      <td>islam dibangun di atas lima landasan persaksia...</td>\n",
              "      <td>islam dibangun landasan persaksian ilah allah ...</td>\n",
              "    </tr>\n",
              "    <tr>\n",
              "      <th>1</th>\n",
              "      <td>1</td>\n",
              "      <td>Tentang Perkara-perkara Iman</td>\n",
              "      <td>Iman memiliki lebih dari enam puluh cabang, da...</td>\n",
              "      <td>3</td>\n",
              "      <td>Iman memiliki lebih dari enam puluh cabang dan...</td>\n",
              "      <td>iman memiliki lebih dari enam puluh cabang dan...</td>\n",
              "      <td>iman memiliki enam puluh cabang malu iman</td>\n",
              "    </tr>\n",
              "    <tr>\n",
              "      <th>2</th>\n",
              "      <td>2</td>\n",
              "      <td>Seorang Muslim adalah Orang yang kaum Muslimin...</td>\n",
              "      <td>Seorang muslim adalah orang yang kaum muslimin...</td>\n",
              "      <td>0</td>\n",
              "      <td>Seorang muslim adalah orang yang kaum muslimin...</td>\n",
              "      <td>seorang muslim adalah orang yang kaum muslimin...</td>\n",
              "      <td>muslim kaum muslimin selamat lisan tangannya m...</td>\n",
              "    </tr>\n",
              "    <tr>\n",
              "      <th>3</th>\n",
              "      <td>3</td>\n",
              "      <td>Amalan Islam apakah yang Paling Utama?</td>\n",
              "      <td>Telah menceritakan kepada kami bapakku berkata...</td>\n",
              "      <td>1</td>\n",
              "      <td>Telah menceritakan kepada kami bapakku berkata...</td>\n",
              "      <td>telah menceritakan kepada kami bapakku berkata...</td>\n",
              "      <td>menceritakan bapakku menceritakan abu burdah b...</td>\n",
              "    </tr>\n",
              "    <tr>\n",
              "      <th>4</th>\n",
              "      <td>4</td>\n",
              "      <td>Memberi Makan Bagian dari Islam</td>\n",
              "      <td>Memberi Makan Bagian dari Islam,\"Ada seseorang...</td>\n",
              "      <td>2</td>\n",
              "      <td>Memberi Makan Bagian dari IslamAda seseorang y...</td>\n",
              "      <td>memberi makan bagian dari islamada seseorang y...</td>\n",
              "      <td>makan islamada nabi  islam manakah nabi  makan...</td>\n",
              "    </tr>\n",
              "  </tbody>\n",
              "</table>\n",
              "</div>"
            ],
            "text/plain": [
              "   id  ...                                          stop_word\n",
              "0   0  ...  islam dibangun landasan persaksian ilah allah ...\n",
              "1   1  ...          iman memiliki enam puluh cabang malu iman\n",
              "2   2  ...  muslim kaum muslimin selamat lisan tangannya m...\n",
              "3   3  ...  menceritakan bapakku menceritakan abu burdah b...\n",
              "4   4  ...  makan islamada nabi  islam manakah nabi  makan...\n",
              "\n",
              "[5 rows x 7 columns]"
            ]
          },
          "metadata": {},
          "execution_count": 75
        }
      ]
    },
    {
      "cell_type": "markdown",
      "metadata": {
        "id": "LPmXoZkV6x0H"
      },
      "source": [
        "# simpan kedalam csv"
      ]
    },
    {
      "cell_type": "code",
      "metadata": {
        "colab": {
          "base_uri": "https://localhost:8080/"
        },
        "id": "lvCdfMlGuU1b",
        "outputId": "ba621f04-6332-4ed2-96fd-7f5c271ff2cc"
      },
      "source": [
        "# output the result to a text file.\n",
        "clusters = df.groupby('cluster')    \n",
        "for cluster in clusters.groups:\n",
        "    f = open('cluster'+str(cluster)+ '.csv', 'w') # create csv file\n",
        "    data = clusters.get_group(cluster)[['title','stop_word']] # get title and overview columns\n",
        "    f.write(data.to_csv(index_label='id')) # set index to id\n",
        "    f.close()\n",
        "\n",
        "print(\"Cluster centroids: \\n\")"
      ],
      "execution_count": 80,
      "outputs": [
        {
          "output_type": "stream",
          "name": "stdout",
          "text": [
            "Cluster centroids: \n",
            "\n"
          ]
        }
      ]
    },
    {
      "cell_type": "markdown",
      "metadata": {
        "id": "qcNzRrbW7GLv"
      },
      "source": [
        "# lihat kata kunci"
      ]
    },
    {
      "cell_type": "code",
      "metadata": {
        "colab": {
          "base_uri": "https://localhost:8080/"
        },
        "id": "ghWA3Oc3ubv1",
        "outputId": "e84160b0-89fb-4088-bc21-3ca6f2fdc2a2"
      },
      "source": [
        "order_centroids = model.cluster_centers_.argsort()[:, ::-1]\n",
        "terms = vectorizer.get_feature_names()\n",
        "\n",
        "for i in range(k):\n",
        "    print(\"Cluster %d:\" % i)\n",
        "    for j in order_centroids[i, :5]: #print out 10 feature terms of each cluster\n",
        "        print (' %s' % terms[j])\n",
        "    print('------------')"
      ],
      "execution_count": 77,
      "outputs": [
        {
          "output_type": "stream",
          "name": "stdout",
          "text": [
            "Cluster 0:\n",
            " allah\n",
            " benci\n",
            " meninggalkan\n",
            " muslim\n",
            " muhajir\n",
            "------------\n",
            "Cluster 1:\n",
            " abu\n",
            " menceritakan\n",
            " bin\n",
            " burdah\n",
            " rasulullah\n",
            "------------\n",
            "Cluster 2:\n",
            " makan\n",
            " kenal\n",
            " nabi\n",
            " islamada\n",
            " manakah\n",
            "------------\n",
            "Cluster 3:\n",
            " iman\n",
            " malu\n",
            " puluh\n",
            " memiliki\n",
            " cabang\n",
            "------------\n",
            "Cluster 4:\n",
            " menceritakan\n",
            " anas\n",
            " mencintai\n",
            " tanda\n",
            " anshar\n",
            "------------\n"
          ]
        }
      ]
    },
    {
      "cell_type": "code",
      "metadata": {
        "colab": {
          "base_uri": "https://localhost:8080/"
        },
        "id": "8dHTWBXK6Ex5",
        "outputId": "594b5c97-b45a-4abc-afdb-5e029396f44b"
      },
      "source": [
        "order_centroids = model.cluster_centers_.argsort()[:, ::-1]\n",
        "terms = vectorizer.get_feature_names()\n",
        "\n",
        "for i in range(k):\n",
        "    print(\"Cluster %d:\" % i)\n",
        "    for j in order_centroids[i, :10]: #print out 10 feature terms of each cluster\n",
        "        print (' %s' % terms[j])\n",
        "    print('------------')"
      ],
      "execution_count": 79,
      "outputs": [
        {
          "output_type": "stream",
          "name": "stdout",
          "text": [
            "Cluster 0:\n",
            " allah\n",
            " benci\n",
            " meninggalkan\n",
            " muslim\n",
            " muhajir\n",
            " dilarang\n",
            " selamat\n",
            " muslimin\n",
            " lisan\n",
            " kaum\n",
            "------------\n",
            "Cluster 1:\n",
            " abu\n",
            " menceritakan\n",
            " bin\n",
            " burdah\n",
            " rasulullah\n",
            " al\n",
            " tangannya\n",
            " abdullah\n",
            " beliau\n",
            " anaknya\n",
            "------------\n",
            "Cluster 2:\n",
            " makan\n",
            " kenal\n",
            " nabi\n",
            " islamada\n",
            " manakah\n",
            " islam\n",
            " dzat\n",
            " enam\n",
            " fadlal\n",
            " habis\n",
            "------------\n",
            "Cluster 3:\n",
            " iman\n",
            " malu\n",
            " puluh\n",
            " memiliki\n",
            " cabang\n",
            " enam\n",
            " islam\n",
            " dilempar\n",
            " dzat\n",
            " fadlal\n",
            "------------\n",
            "Cluster 4:\n",
            " menceritakan\n",
            " anas\n",
            " mencintai\n",
            " tanda\n",
            " anshar\n",
            " nabi\n",
            " qotadah\n",
            " menyukai\n",
            " saudaranya\n",
            " syubah\n",
            "------------\n"
          ]
        }
      ]
    }
  ]
}